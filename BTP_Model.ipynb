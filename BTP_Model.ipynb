{
 "cells": [
  {
   "cell_type": "code",
   "execution_count": 24,
   "metadata": {},
   "outputs": [
    {
     "name": "stdout",
     "output_type": "stream",
     "text": [
      "Defaulting to user installation because normal site-packages is not writeable\n",
      "Requirement already satisfied: netCDF4 in /home/rushil/.local/lib/python3.10/site-packages (1.6.5)\n",
      "Requirement already satisfied: cftime in /home/rushil/.local/lib/python3.10/site-packages (from netCDF4) (1.6.3)\n",
      "Requirement already satisfied: numpy in /home/rushil/.local/lib/python3.10/site-packages (from netCDF4) (1.26.4)\n",
      "Requirement already satisfied: certifi in /usr/lib/python3/dist-packages (from netCDF4) (2020.6.20)\n"
     ]
    }
   ],
   "source": [
    "!pip install netCDF4\n",
    "import numpy as np"
   ]
  },
  {
   "cell_type": "code",
   "execution_count": 25,
   "metadata": {},
   "outputs": [],
   "source": [
    "import netCDF4 as nc\n",
    "import pandas as pd\n",
    "\n",
    "pd.set_option('display.max_rows', None)\n",
    "pd.set_option('display.max_columns', None)\n",
    "pd.set_option('display.width', None)\n",
    "pd.set_option('display.max_colwidth', None)\n",
    "\n",
    "# Open the NetCDF file\n",
    "nc_file = nc.Dataset('./day_wise_averages/dayavg_zmla_Eday_INM-CM4-8.nc')\n",
    "\n",
    "# Create a DataFrame to store variable, dimensions, and data information\n",
    "data = {\n",
    "    # 'Variable': [],\n",
    "    # 'Dimensions': [],\n",
    "    'Data': []\n",
    "}\n",
    "\n",
    "# Fill the DataFrame with variable, dimensions, and data information\n",
    "for var_name, var in nc_file.variables.items():\n",
    "    dimensions = ', '.join(var.dimensions)\n",
    "    data_values = var[:]\n",
    "    # data['Variable'].append(var_name)\n",
    "    # data['Dimensions'].append(dimensions)\n",
    "    data['Data'].append(data_values)\n",
    "\n",
    "# Create DataFrame\n",
    "df = pd.DataFrame(data)"
   ]
  },
  {
   "cell_type": "code",
   "execution_count": 26,
   "metadata": {},
   "outputs": [
    {
     "ename": "KeyError",
     "evalue": "'lat'",
     "output_type": "error",
     "traceback": [
      "\u001b[0;31m---------------------------------------------------------------------------\u001b[0m",
      "\u001b[0;31mKeyError\u001b[0m                                  Traceback (most recent call last)",
      "\u001b[0;32m/tmp/ipykernel_66712/1573436845.py\u001b[0m in \u001b[0;36m<module>\u001b[0;34m\u001b[0m\n\u001b[1;32m      3\u001b[0m \u001b[0;34m\u001b[0m\u001b[0m\n\u001b[1;32m      4\u001b[0m \u001b[0;31m# Extract latitude and longitude directly as variables\u001b[0m\u001b[0;34m\u001b[0m\u001b[0;34m\u001b[0m\u001b[0m\n\u001b[0;32m----> 5\u001b[0;31m \u001b[0mlat\u001b[0m \u001b[0;34m=\u001b[0m \u001b[0mnc_file\u001b[0m\u001b[0;34m.\u001b[0m\u001b[0mvariables\u001b[0m\u001b[0;34m[\u001b[0m\u001b[0;34m'lat'\u001b[0m\u001b[0;34m]\u001b[0m\u001b[0;34m[\u001b[0m\u001b[0;34m:\u001b[0m\u001b[0;34m]\u001b[0m\u001b[0;34m\u001b[0m\u001b[0;34m\u001b[0m\u001b[0m\n\u001b[0m\u001b[1;32m      6\u001b[0m \u001b[0mlon\u001b[0m \u001b[0;34m=\u001b[0m \u001b[0mnc_file\u001b[0m\u001b[0;34m.\u001b[0m\u001b[0mvariables\u001b[0m\u001b[0;34m[\u001b[0m\u001b[0;34m'lon'\u001b[0m\u001b[0;34m]\u001b[0m\u001b[0;34m[\u001b[0m\u001b[0;34m:\u001b[0m\u001b[0;34m]\u001b[0m\u001b[0;34m\u001b[0m\u001b[0;34m\u001b[0m\u001b[0m\n\u001b[1;32m      7\u001b[0m \u001b[0;34m\u001b[0m\u001b[0m\n",
      "\u001b[0;31mKeyError\u001b[0m: 'lat'"
     ]
    }
   ],
   "source": [
    "# Extract the zmla data\n",
    "zmla = nc_file.variables['zmla'][:]\n",
    "\n",
    "# Access latitudes and longitudes as dimensions\n",
    "lat_dim = nc_file.dimensions['lat']\n",
    "lon_dim = nc_file.dimensions['lon']\n",
    "\n",
    "# Create arrays for latitude and longitude values\n",
    "lat = np.linspace(lat_dim.start, lat_dim.stop - 1, len(lat_dim))\n",
    "lon = np.linspace(lon_dim.start, lon_dim.stop - 1, len(lon_dim))\n",
    "lon_mesh, lat_mesh = np.meshgrid(lon, lat)\n",
    "\n",
    "# Choose a particular time index\n",
    "time_index = 0  # Adjust as needed\n",
    "\n",
    "# Extract zmla values for the chosen time\n",
    "zmla_time = zmla[time_index]\n",
    "\n",
    "# Plotting\n",
    "fig = plt.figure(figsize=(10, 8))\n",
    "ax = fig.add_subplot(1, 1, 1, projection=ccrs.PlateCarree())\n",
    "\n",
    "# Plot India outline\n",
    "ax.add_feature(cfeature.BORDERS, linestyle=':')\n",
    "ax.add_feature(cfeature.COASTLINE)\n",
    "\n",
    "# Plot zmla data over India\n",
    "plt.contourf(lon_mesh, lat_mesh, zmla_time, transform=ccrs.PlateCarree())\n",
    "plt.colorbar(label='zmla')\n",
    "plt.title(f'zmla at Time Index: {time_index}')\n",
    "plt.show()\n",
    "\n",
    "# Close the NetCDF file\n",
    "nc_file.close()"
   ]
  }
 ],
 "metadata": {
  "kernelspec": {
   "display_name": "Python 3",
   "language": "python",
   "name": "python3"
  },
  "language_info": {
   "codemirror_mode": {
    "name": "ipython",
    "version": 3
   },
   "file_extension": ".py",
   "mimetype": "text/x-python",
   "name": "python",
   "nbconvert_exporter": "python",
   "pygments_lexer": "ipython3",
   "version": "3.10.12"
  }
 },
 "nbformat": 4,
 "nbformat_minor": 2
}
